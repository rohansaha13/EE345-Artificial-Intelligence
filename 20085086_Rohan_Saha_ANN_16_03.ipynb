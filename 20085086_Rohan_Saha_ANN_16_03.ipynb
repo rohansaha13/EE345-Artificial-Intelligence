{
  "nbformat": 4,
  "nbformat_minor": 0,
  "metadata": {
    "colab": {
      "provenance": [],
      "authorship_tag": "ABX9TyOQ9gI4N2eXG+7U7F08hHC0",
      "include_colab_link": true
    },
    "kernelspec": {
      "name": "python3",
      "display_name": "Python 3"
    },
    "language_info": {
      "name": "python"
    }
  },
  "cells": [
    {
      "cell_type": "markdown",
      "metadata": {
        "id": "view-in-github",
        "colab_type": "text"
      },
      "source": [
        "<a href=\"https://colab.research.google.com/github/rohansaha13/EE345-Artificial-Intelligence/blob/main/20085086_Rohan_Saha_ANN_16_03.ipynb\" target=\"_parent\"><img src=\"https://colab.research.google.com/assets/colab-badge.svg\" alt=\"Open In Colab\"/></a>"
      ]
    },
    {
      "cell_type": "code",
      "source": [
        "import numpy as np\n",
        "import math"
      ],
      "metadata": {
        "id": "Yo3oQ4b3aesS"
      },
      "execution_count": 13,
      "outputs": []
    },
    {
      "cell_type": "code",
      "source": [
        "x=np.array([0.2,-0.3]).reshape(2,1)\n",
        "d=np.array([0.4,-0.3,0.5,-0.8,0.2]).reshape(5,1)"
      ],
      "metadata": {
        "id": "J3W6IA7Oalsg"
      },
      "execution_count": 14,
      "outputs": []
    },
    {
      "cell_type": "code",
      "source": [
        "w1=np.array([[0.6,-0.4],[1.0,-0.9],[0.1,0.5]])\n",
        "w2=np.array([[-0.5,0.3,0.1],[0.2,-0.6,0.5],[0.0,-0.4,0.6],[-0.7,-1.0,0.4]])\n",
        "w3=np.array([[0.4,-0.7,0.3,0.5],[0.7,0.6,-0.2,0.9],[-0.6,0.1,-0.8,0.1],[0.8,1.0,-0.5,-0.9],[-1.0,0.0,0.2,-0.4]])"
      ],
      "metadata": {
        "id": "Bdp25snxatKp"
      },
      "execution_count": 15,
      "outputs": []
    },
    {
      "cell_type": "code",
      "source": [
        "def sigmoid(z):\n",
        "    return 1/(1+math.exp(-1*z))\n",
        "\n",
        "def derivative_sigmoid(z):\n",
        "    return sigmoid(z)*(1-sigmoid(z))"
      ],
      "metadata": {
        "id": "viUpJxsIa1aR"
      },
      "execution_count": 16,
      "outputs": []
    },
    {
      "cell_type": "code",
      "source": [
        "def forwardprop():\n",
        "    global v1,xout1,v2,xout2,v3,xout3\n",
        "    v1=np.matmul(w1,x)\n",
        "    xout1=np.array(list(map(sigmoid,v1))).reshape(v1.shape[0],1)\n",
        "    #print(xout1)\n",
        "    v2=np.matmul(w2,xout1)\n",
        "    xout2=np.array(list(map(sigmoid,v2))).reshape(v2.shape[0],1)\n",
        "    #print(xout2)\n",
        "    v3=np.matmul(w3,xout2)\n",
        "    xout3=np.array(list(map(sigmoid,v3))).reshape(v3.shape[0],1)\n",
        "    #print(xout3)\n",
        "    return xout3"
      ],
      "metadata": {
        "id": "O42OnOuma7Y4"
      },
      "execution_count": 17,
      "outputs": []
    },
    {
      "cell_type": "code",
      "source": [
        "y=forwardprop()\n",
        "\n",
        "def backprop():\n",
        "    global le3,le2,le1\n",
        "    le3=(d-y)*np.array(list(map(derivative_sigmoid,v3))).reshape(v3.shape[0],1)\n",
        "    le2=np.matmul(w3.T,le3)*np.array(list(map(derivative_sigmoid,v2))).reshape(v2.shape[0],1)\n",
        "    le1=np.matmul(w2.T,le2)*np.array(list(map(derivative_sigmoid,v1))).reshape(v1.shape[0],1)\n",
        "    return le3,le2,le1\n",
        "\n",
        "le3,le2,le1=backprop()\n",
        "w3=w3+0.1*np.matmul(le3,xout2.T)\n",
        "#print(np.matmul(le3,xout2.T))\n",
        "w2=w2+0.1*np.matmul(le2,xout1.T)\n",
        "#print(np.matmul(le2,xout1.T))\n",
        "w1=w1+0.1*np.matmul(le1,x.T)\n",
        "#print(np.matmul(le1,x.T))"
      ],
      "metadata": {
        "id": "QqgjbF3ubGRJ"
      },
      "execution_count": 18,
      "outputs": []
    },
    {
      "cell_type": "code",
      "source": [
        "print(\"w1 =\")\n",
        "print(w1)\n",
        "print(\"w2 =\")\n",
        "print(w2)\n",
        "print(\"w3 =\")\n",
        "print(w3)"
      ],
      "metadata": {
        "colab": {
          "base_uri": "https://localhost:8080/",
          "height": 0
        },
        "id": "fWFda4hHbKwg",
        "outputId": "b5178259-c613-4dd7-8320-15f8fac677f1"
      },
      "execution_count": 19,
      "outputs": [
        {
          "output_type": "stream",
          "name": "stdout",
          "text": [
            "w1 =\n",
            "[[ 0.6000609  -0.40009135]\n",
            " [ 0.99997026 -0.89995539]\n",
            " [ 0.09984943  0.50022586]]\n",
            "w2 =\n",
            "[[-0.5057344   0.29369524  0.09520988]\n",
            " [ 0.19390636 -0.60669973  0.4949098 ]\n",
            " [ 0.00230131 -0.3974698   0.60192235]\n",
            " [-0.69863301 -0.99849705  0.40114189]]\n",
            "w3 =\n",
            "[[ 0.39831956 -0.70170193  0.29824823  0.49894696]\n",
            " [ 0.68968809  0.58955618 -0.21074968  0.89353808]\n",
            " [-0.59833394  0.10168738 -0.79826321  0.10104403]\n",
            " [ 0.78359494  0.98338508 -0.51710151 -0.91028018]\n",
            " [-1.00200862 -0.00203431  0.19790611 -0.40125869]]\n"
          ]
        }
      ]
    }
  ]
}