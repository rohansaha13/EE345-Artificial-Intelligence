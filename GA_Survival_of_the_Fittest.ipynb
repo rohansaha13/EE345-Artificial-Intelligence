{
  "nbformat": 4,
  "nbformat_minor": 0,
  "metadata": {
    "colab": {
      "provenance": [],
      "authorship_tag": "ABX9TyObKYXglw5/qURbfdgDOzUg",
      "include_colab_link": true
    },
    "kernelspec": {
      "name": "python3",
      "display_name": "Python 3"
    },
    "language_info": {
      "name": "python"
    }
  },
  "cells": [
    {
      "cell_type": "markdown",
      "metadata": {
        "id": "view-in-github",
        "colab_type": "text"
      },
      "source": [
        "<a href=\"https://colab.research.google.com/github/rohansaha13/EE345-Artificial-Intelligence/blob/main/GA_Survival_of_the_Fittest.ipynb\" target=\"_parent\"><img src=\"https://colab.research.google.com/assets/colab-badge.svg\" alt=\"Open In Colab\"/></a>"
      ]
    },
    {
      "cell_type": "code",
      "execution_count": null,
      "metadata": {
        "id": "uHb7DY7ke80Y"
      },
      "outputs": [],
      "source": [
        "from scipy import rand\n",
        "import numpy as np\n",
        "import random\n",
        "import matplotlib.pyplot as plt"
      ]
    },
    {
      "cell_type": "code",
      "source": [
        "def objective_function(x,y):\n",
        "  return (x**2+y**2)"
      ],
      "metadata": {
        "id": "KDUjIP7XfmU7"
      },
      "execution_count": null,
      "outputs": []
    },
    {
      "cell_type": "code",
      "source": [
        "def fitness(population):\n",
        "  fitness_values=[]\n",
        "  individual_index=0\n",
        "  for individual in population :\n",
        "    fitness_values.append([1-abs(objective_function(individual[0],individual[1])/2),individual[0],individual[1]])\n",
        "  return fitness_values"
      ],
      "metadata": {
        "id": "TuN8d5XufsJr"
      },
      "execution_count": null,
      "outputs": []
    },
    {
      "cell_type": "code",
      "source": [
        "def reproduce(parent,p1,p2):\n",
        "  a,b,c=random.sample(range(-100,100),3)\n",
        "  x_new=(parent[p1][0]*a+parent[p2][0]*b)/(a+b)\n",
        "  y_new=(parent[p1][1]*a+parent[p2][1]*b)/(a+b)\n",
        "  return [x_new,y_new]"
      ],
      "metadata": {
        "id": "aMMiibj3f2bA"
      },
      "execution_count": null,
      "outputs": []
    },
    {
      "cell_type": "code",
      "source": [
        "def recombine(parents):\n",
        "    offsprings=[]\n",
        "    parents_id=[0,1,2,3,4]\n",
        "    for i in range(5):\n",
        "        p1,p2=random.sample(set([0, 1, 2, 3, 4]), 2)\n",
        "        offsprings.append(reproduce(parents,p1,p2))\n",
        "    return offsprings"
      ],
      "metadata": {
        "id": "PXKwwi0Qf4PU"
      },
      "execution_count": null,
      "outputs": []
    },
    {
      "cell_type": "code",
      "source": [
        "population = np.random.rand(10,2)"
      ],
      "metadata": {
        "id": "aDy4s7cLf8H3"
      },
      "execution_count": null,
      "outputs": []
    },
    {
      "cell_type": "code",
      "source": [
        "max_values=[]\n",
        "five_best_values=[]"
      ],
      "metadata": {
        "id": "Q6zkgd_7f_58"
      },
      "execution_count": null,
      "outputs": []
    },
    {
      "cell_type": "code",
      "source": [
        "for i in range(10):\n",
        "  fitness_values=fitness(population)\n",
        "  fitness_values.sort()\n",
        "  fitness_values=np.array(fitness_values)\n",
        "  max_values.append([fitness_values[-1][0],objective_function(fitness_values[-1][1],fitness_values[-1][2])])\n",
        "  parents=fitness_values[-5:,1:]\n",
        "  population=np.concatenate((parents,recombine(parents)))"
      ],
      "metadata": {
        "id": "c7InPxb2gDQD"
      },
      "execution_count": null,
      "outputs": []
    },
    {
      "cell_type": "code",
      "source": [
        "max_values=np.array(max_values)"
      ],
      "metadata": {
        "id": "1UhlGoXHi6p5"
      },
      "execution_count": null,
      "outputs": []
    },
    {
      "cell_type": "code",
      "source": [
        "plt.scatter(range(10),max_values[:,0])\n",
        "plt.show()\n",
        "plt.scatter(range(10),max_values[:,1])\n",
        "plt.show()"
      ],
      "metadata": {
        "colab": {
          "base_uri": "https://localhost:8080/",
          "height": 521
        },
        "id": "GZW7cBybjKIs",
        "outputId": "4a8c16e7-b27b-404a-fff8-8c256eb3f17d"
      },
      "execution_count": null,
      "outputs": [
        {
          "output_type": "display_data",
          "data": {
            "text/plain": [
              "<Figure size 432x288 with 1 Axes>"
            ],
            "image/png": "[encoded data removed]"
          },
          "metadata": {
            "needs_background": "light"
          }
        },
        {
          "output_type": "display_data",
          "data": {
            "text/plain": [
              "<Figure size 432x288 with 1 Axes>"
            ],
            "image/png": "[encoded data removed]"
          },
          "metadata": {
            "needs_background": "light"
          }
        }
      ]
    },
    {
      "cell_type": "code",
      "source": [
        "for i in range(5):\n",
        "    a=fitness_values[-1*(i+1)]\n",
        "    five_best_values.append((a[0],objective_function(a[1],a[2])))"
      ],
      "metadata": {
        "id": "lopdywWWjUL_"
      },
      "execution_count": null,
      "outputs": []
    },
    {
      "cell_type": "code",
      "source": [
        "print(\"Fitness Values : \",max_values[:,0])\n",
        "print(\"Optimal Values : \",max_values[:,1])\n",
        "print(\"Most Optimum/Fittest 5 Fitness and Function Values are respectively : \",five_best_values)"
      ],
      "metadata": {
        "colab": {
          "base_uri": "https://localhost:8080/"
        },
        "id": "RxUN1yVQjYvQ",
        "outputId": "c3e0874c-3c79-442f-bc93-6704edceb1f3"
      },
      "execution_count": null,
      "outputs": [
        {
          "output_type": "stream",
          "name": "stdout",
          "text": [
            "Fitness Values :  [0.95211616 0.95671896 0.98419077 0.98419077 0.99783168 0.99783168\n",
            " 0.99783168 0.99783168 0.99783168 0.99783168]\n",
            "Optimal Values :  [0.09576768 0.08656208 0.03161845 0.03161845 0.00433663 0.00433663\n",
            " 0.00433663 0.00433663 0.00433663 0.00433663]\n",
            "Most Optimum/Fittest 5 Fitness and Function Values are respectively :  [(0.997831682839219, 0.0043366343215621266), (0.9977950694881729, 0.004409861023654269), (0.9977762542565995, 0.0044474914868009585), (0.9977463593469373, 0.004507281306125386), (0.9976637936789635, 0.0046724126420729165)]\n"
          ]
        }
      ]
    }
  ]
}